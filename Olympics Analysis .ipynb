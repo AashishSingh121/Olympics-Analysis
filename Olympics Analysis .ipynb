{
 "cells": [
  {
   "cell_type": "markdown",
   "metadata": {},
   "source": [
    "# Summer Olympics Data Analysis Assignment\n"
   ]
  },
  {
   "cell_type": "code",
   "execution_count": 33,
   "metadata": {},
   "outputs": [],
   "source": [
    "import pandas as pd\n",
    "import numpy as np\n",
    "import matplotlib.pyplot as plt"
   ]
  },
  {
   "cell_type": "markdown",
   "metadata": {},
   "source": [
    "\n",
    "### 1. In how many cities Summer Olympics is held so far?"
   ]
  },
  {
   "cell_type": "code",
   "execution_count": 120,
   "metadata": {},
   "outputs": [
    {
     "name": "stdout",
     "output_type": "stream",
     "text": [
      "Number Of Cities Summer Olympics is held: 22\n",
      "\n",
      "Cities Are Listed Below:-\n"
     ]
    },
    {
     "data": {
      "text/html": [
       "<div>\n",
       "<style scoped>\n",
       "    .dataframe tbody tr th:only-of-type {\n",
       "        vertical-align: middle;\n",
       "    }\n",
       "\n",
       "    .dataframe tbody tr th {\n",
       "        vertical-align: top;\n",
       "    }\n",
       "\n",
       "    .dataframe thead th {\n",
       "        text-align: right;\n",
       "    }\n",
       "</style>\n",
       "<table border=\"1\" class=\"dataframe\">\n",
       "  <thead>\n",
       "    <tr style=\"text-align: right;\">\n",
       "      <th></th>\n",
       "      <th>0</th>\n",
       "    </tr>\n",
       "  </thead>\n",
       "  <tbody>\n",
       "    <tr>\n",
       "      <th>0</th>\n",
       "      <td>Athens</td>\n",
       "    </tr>\n",
       "    <tr>\n",
       "      <th>1</th>\n",
       "      <td>Paris</td>\n",
       "    </tr>\n",
       "    <tr>\n",
       "      <th>2</th>\n",
       "      <td>St Louis</td>\n",
       "    </tr>\n",
       "    <tr>\n",
       "      <th>3</th>\n",
       "      <td>London</td>\n",
       "    </tr>\n",
       "    <tr>\n",
       "      <th>4</th>\n",
       "      <td>Stockholm</td>\n",
       "    </tr>\n",
       "    <tr>\n",
       "      <th>5</th>\n",
       "      <td>Antwerp</td>\n",
       "    </tr>\n",
       "    <tr>\n",
       "      <th>6</th>\n",
       "      <td>Amsterdam</td>\n",
       "    </tr>\n",
       "    <tr>\n",
       "      <th>7</th>\n",
       "      <td>Los Angeles</td>\n",
       "    </tr>\n",
       "    <tr>\n",
       "      <th>8</th>\n",
       "      <td>Berlin</td>\n",
       "    </tr>\n",
       "    <tr>\n",
       "      <th>9</th>\n",
       "      <td>Helsinki</td>\n",
       "    </tr>\n",
       "    <tr>\n",
       "      <th>10</th>\n",
       "      <td>Melbourne / Stockholm</td>\n",
       "    </tr>\n",
       "    <tr>\n",
       "      <th>11</th>\n",
       "      <td>Rome</td>\n",
       "    </tr>\n",
       "    <tr>\n",
       "      <th>12</th>\n",
       "      <td>Tokyo</td>\n",
       "    </tr>\n",
       "    <tr>\n",
       "      <th>13</th>\n",
       "      <td>Mexico</td>\n",
       "    </tr>\n",
       "    <tr>\n",
       "      <th>14</th>\n",
       "      <td>Munich</td>\n",
       "    </tr>\n",
       "    <tr>\n",
       "      <th>15</th>\n",
       "      <td>Montreal</td>\n",
       "    </tr>\n",
       "    <tr>\n",
       "      <th>16</th>\n",
       "      <td>Moscow</td>\n",
       "    </tr>\n",
       "    <tr>\n",
       "      <th>17</th>\n",
       "      <td>Seoul</td>\n",
       "    </tr>\n",
       "    <tr>\n",
       "      <th>18</th>\n",
       "      <td>Barcelona</td>\n",
       "    </tr>\n",
       "    <tr>\n",
       "      <th>19</th>\n",
       "      <td>Atlanta</td>\n",
       "    </tr>\n",
       "    <tr>\n",
       "      <th>20</th>\n",
       "      <td>Sydney</td>\n",
       "    </tr>\n",
       "    <tr>\n",
       "      <th>21</th>\n",
       "      <td>Beijing</td>\n",
       "    </tr>\n",
       "  </tbody>\n",
       "</table>\n",
       "</div>"
      ],
      "text/plain": [
       "                        0\n",
       "0                  Athens\n",
       "1                   Paris\n",
       "2                St Louis\n",
       "3                  London\n",
       "4               Stockholm\n",
       "5                 Antwerp\n",
       "6               Amsterdam\n",
       "7             Los Angeles\n",
       "8                  Berlin\n",
       "9                Helsinki\n",
       "10  Melbourne / Stockholm\n",
       "11                   Rome\n",
       "12                  Tokyo\n",
       "13                 Mexico\n",
       "14                 Munich\n",
       "15               Montreal\n",
       "16                 Moscow\n",
       "17                  Seoul\n",
       "18              Barcelona\n",
       "19                Atlanta\n",
       "20                 Sydney\n",
       "21                Beijing"
      ]
     },
     "execution_count": 120,
     "metadata": {},
     "output_type": "execute_result"
    }
   ],
   "source": [
    "df=pd.read_csv(\"D:\\Aashish Folder\\Docs\\Olympics.csv\")\n",
    "sol=pd.DataFrame(df[\"City\"].unique())\n",
    "sol.rename(columns = {'0':'City'}, inplace = True)\n",
    "count=len(sol.axes[0])\n",
    "print(\"Number Of Cities Summer Olympics is held:\",count)\n",
    "print(\"\\nCities Are Listed Below:-\")\n",
    "sol.head(22)"
   ]
  },
  {
   "cell_type": "markdown",
   "metadata": {},
   "source": [
    "## 2. Which sport is having most number of Gold Medals so far? (Top 5)\n"
   ]
  },
  {
   "cell_type": "code",
   "execution_count": 53,
   "metadata": {},
   "outputs": [
    {
     "name": "stdout",
     "output_type": "stream",
     "text": [
      "Sport having most number of Gold Medal: Athletics \n",
      "Number of Medals: 1214\n"
     ]
    }
   ],
   "source": [
    "import pandas as pd\n",
    "import numpy as np\n",
    "import matplotlib.pyplot as plt\n",
    "df=pd.read_csv(\"D:\\Aashish Folder\\Docs\\Olympics.csv\")\n",
    "\n",
    "gold=df.where(df['Medal']=='Gold')\n",
    "gold=gold.dropna()\n",
    "data=[]\n",
    "for x in gold['Discipline'].unique():\n",
    "    data.append([x , len(gold[gold['Discipline']  ==x])])\n",
    "sol=0\n",
    "index=0\n",
    "for i in range(len(data)):\n",
    "    if sol<data[i][1]:\n",
    "        sol=data[i][1]\n",
    "        index=i    \n",
    "print(\"Sport having most number of Gold Medal:\",data[index][0],\"\\nNumber of Medals:\",data[index][1])"
   ]
  },
  {
   "cell_type": "markdown",
   "metadata": {},
   "source": [
    "## 3. Which sport is having most number of medals so far? (Top 5)"
   ]
  },
  {
   "cell_type": "code",
   "execution_count": 56,
   "metadata": {},
   "outputs": [
    {
     "name": "stdout",
     "output_type": "stream",
     "text": [
      "Sport having most number of Gold Medal: Athletics \n",
      "Number of Medals: 3638\n"
     ]
    }
   ],
   "source": [
    "import pandas as pd\n",
    "import numpy as np\n",
    "import matplotlib.pyplot as plt\n",
    "df=pd.read_csv(\"D:\\Aashish Folder\\Docs\\Olympics.csv\")\n",
    "data=[]\n",
    "for x in df['Discipline'].unique():\n",
    "    data.append([x , len(df[df['Discipline']  ==x])])\n",
    "sol=0\n",
    "index=0\n",
    "for i in range(len(data)):\n",
    "    if sol<data[i][1]:\n",
    "        sol=data[i][1]\n",
    "        index=i    \n",
    "print(\"Sport having most number of Gold Medal:\",data[index][0],\"\\nNumber of Medals:\",data[index][1])\n"
   ]
  },
  {
   "cell_type": "markdown",
   "metadata": {},
   "source": [
    "## 4. Which player has won most number of medals? (Top 5)"
   ]
  },
  {
   "cell_type": "code",
   "execution_count": 67,
   "metadata": {},
   "outputs": [
    {
     "name": "stdout",
     "output_type": "stream",
     "text": [
      "Athlete having most number of Medals: PHELPS, Michael \n",
      "Number of Medals: 22\n"
     ]
    }
   ],
   "source": [
    "import pandas as pd\n",
    "import numpy as np\n",
    "import matplotlib.pyplot as plt\n",
    "df=pd.read_csv(\"D:\\Aashish Folder\\Docs\\Olympics.csv\")\n",
    "\n",
    "data=[]\n",
    "for x in df['Athlete'].unique():\n",
    "    data.append([x , len(df[df['Athlete']  ==x])])\n",
    "sol=0\n",
    "index=0\n",
    "for i in range(len(data)):\n",
    "    if sol<data[i][1]:\n",
    "        sol=data[i][1]\n",
    "        index=i    \n",
    "print(\"Athlete having most number of Medals:\",data[index][0],\"\\nNumber of Medals:\",data[index][1])\n"
   ]
  },
  {
   "cell_type": "markdown",
   "metadata": {},
   "source": [
    "## 5. Which player has won most number Gold Medals of medals? (Top 5)"
   ]
  },
  {
   "cell_type": "code",
   "execution_count": 69,
   "metadata": {},
   "outputs": [
    {
     "name": "stdout",
     "output_type": "stream",
     "text": [
      "Athlete having most number of Gold Medal: PHELPS, Michael \n",
      "Number of Medals: 18\n"
     ]
    }
   ],
   "source": [
    "import pandas as pd\n",
    "import numpy as np\n",
    "import matplotlib.pyplot as plt\n",
    "df=pd.read_csv(\"D:\\Aashish Folder\\Docs\\Olympics.csv\")\n",
    "\n",
    "data=[]\n",
    "gold=df.where(df['Medal']=='Gold')\n",
    "gold=gold.dropna()\n",
    "for x in gold['Athlete'].unique():\n",
    "    data.append([x , len(gold[gold['Athlete']  ==x])])\n",
    "\n",
    "sol=0\n",
    "index=0\n",
    "for i in range(len(data)):\n",
    "    if sol<data[i][1]:\n",
    "        sol=data[i][1]\n",
    "        index=i    \n",
    "print(\"Athlete having most number of Gold Medal:\",data[index][0],\"\\nNumber of Medals:\",data[index][1])"
   ]
  },
  {
   "cell_type": "markdown",
   "metadata": {},
   "source": [
    "## 6. In which year India won first Gold Medal in Summer Olympics?"
   ]
  },
  {
   "cell_type": "code",
   "execution_count": 90,
   "metadata": {},
   "outputs": [
    {
     "name": "stdout",
     "output_type": "stream",
     "text": [
      "India won first Gold Medal in Summer Olympics In Year: 1928\n",
      "\n",
      " Medal won in 1928 :\n",
      "        Year       City   Sport Discipline                       Athlete  \\\n",
      "5512  1928.0  Amsterdam  Hockey     Hockey          ALLEN, Richard James   \n",
      "5513  1928.0  Amsterdam  Hockey     Hockey                   CHAND, Dyan   \n",
      "5514  1928.0  Amsterdam  Hockey     Hockey           GATELEY, Maurice A.   \n",
      "5515  1928.0  Amsterdam  Hockey     Hockey                   GILL, K. S.   \n",
      "5516  1928.0  Amsterdam  Hockey     Hockey  GOODSIR-CULLEN, William John   \n",
      "5517  1928.0  Amsterdam  Hockey     Hockey       HAMMOND, Leslie Charles   \n",
      "5518  1928.0  Amsterdam  Hockey     Hockey            KHAN, Feroze Uddin   \n",
      "5519  1928.0  Amsterdam  Hockey     Hockey           MARTHINS, George E.   \n",
      "5520  1928.0  Amsterdam  Hockey     Hockey                NORRIS, Rex A.   \n",
      "5521  1928.0  Amsterdam  Hockey     Hockey         PINNIGER, Broome Eric   \n",
      "5522  1928.0  Amsterdam  Hockey     Hockey            ROCQUE, Michael E.   \n",
      "5523  1928.0  Amsterdam  Hockey     Hockey           SEAMAN, Frederic S.   \n",
      "5524  1928.0  Amsterdam  Hockey     Hockey                  SHAUKAT, Ali   \n",
      "5525  1928.0  Amsterdam  Hockey     Hockey                 SINGH, Jaipal   \n",
      "5526  1928.0  Amsterdam  Hockey     Hockey          YUSUF, Sayed Mohamed   \n",
      "\n",
      "     Country Gender   Event Medal  \n",
      "5512     IND    Men  Hockey  Gold  \n",
      "5513     IND    Men  Hockey  Gold  \n",
      "5514     IND    Men  Hockey  Gold  \n",
      "5515     IND    Men  Hockey  Gold  \n",
      "5516     IND    Men  Hockey  Gold  \n",
      "5517     IND    Men  Hockey  Gold  \n",
      "5518     IND    Men  Hockey  Gold  \n",
      "5519     IND    Men  Hockey  Gold  \n",
      "5520     IND    Men  Hockey  Gold  \n",
      "5521     IND    Men  Hockey  Gold  \n",
      "5522     IND    Men  Hockey  Gold  \n",
      "5523     IND    Men  Hockey  Gold  \n",
      "5524     IND    Men  Hockey  Gold  \n",
      "5525     IND    Men  Hockey  Gold  \n",
      "5526     IND    Men  Hockey  Gold  \n"
     ]
    }
   ],
   "source": [
    "import pandas as pd\n",
    "import numpy as np\n",
    "import matplotlib.pyplot as plt\n",
    "df=pd.read_csv(\"D:\\Aashish Folder\\Docs\\Olympics.csv\")\n",
    "data=[]\n",
    "india=df.where(df[\"Country\"]=='IND')\n",
    "india=india.dropna()\n",
    "india_gold=india.where(df[\"Medal\"]=='Gold')\n",
    "india_gold=india_gold.dropna()\n",
    "\n",
    "y=int(2020)\n",
    "k=''\n",
    "for i in india_gold['Year'].unique():\n",
    "    if int(i)<y:\n",
    "        y=int(i)\n",
    "        k=i\n",
    "print(\"India won first Gold Medal in Summer Olympics In Year:\",y)\n",
    "print(\"\\n Medal won in\",y,\":\")\n",
    "res=india_gold.where(df[\"Year\"]==k)\n",
    "res=res.dropna()\n",
    "print(res)\n",
    "    "
   ]
  },
  {
   "cell_type": "markdown",
   "metadata": {},
   "source": [
    "## 7. Which event is most popular in terms on number of players? (Top 5)"
   ]
  },
  {
   "cell_type": "code",
   "execution_count": 107,
   "metadata": {},
   "outputs": [
    {
     "name": "stdout",
     "output_type": "stream",
     "text": [
      "Event most popular in terms of number of players: Aquatics \n",
      "Number of players: 4170\n"
     ]
    },
    {
     "data": {
      "image/png": "[encoded data removed]",
      "text/plain": [
       "<Figure size 720x360 with 1 Axes>"
      ]
     },
     "metadata": {
      "needs_background": "light"
     },
     "output_type": "display_data"
    }
   ],
   "source": [
    "import pandas as pd\n",
    "import numpy as np\n",
    "import matplotlib.pyplot as plt\n",
    "df=pd.read_csv(\"D:\\Aashish Folder\\Docs\\Olympics.csv\")\n",
    "data=[]\n",
    "count=0\n",
    "for x in df['Sport'].unique():\n",
    "    data.append([x , len(df[df['Sport']  ==x])])\n",
    "sorted(data, key = lambda x: x[1])\n",
    "data1=[]\n",
    "for i in range(5):\n",
    "    data1.append(data[i])\n",
    "for i in range(len(data1)):\n",
    "    if data1[i][1]>count:\n",
    "        count=data[i][1]\n",
    "        index=data[i][0]\n",
    "pd.DataFrame(data1,columns = ['Sport','freq']).sort_values(by='freq', ascending=False).plot(x = 'Sport', y = 'freq', kind = 'bar', figsize = (10,5))\n",
    "\n",
    "print(\"Event most popular in terms of number of players:\",index,\"\\nNumber of players:\",count)"
   ]
  },
  {
   "cell_type": "markdown",
   "metadata": {},
   "source": [
    "## 8. Which sport is having most female Gold Medalists? (Top 5)"
   ]
  },
  {
   "cell_type": "code",
   "execution_count": 119,
   "metadata": {},
   "outputs": [
    {
     "name": "stdout",
     "output_type": "stream",
     "text": [
      "Sport having most female Gold Medalists: Aquatics \n",
      "Number of players: 589\n"
     ]
    },
    {
     "data": {
      "image/png": "[encoded data removed]",
      "text/plain": [
       "<Figure size 720x360 with 1 Axes>"
      ]
     },
     "metadata": {
      "needs_background": "light"
     },
     "output_type": "display_data"
    }
   ],
   "source": [
    "import pandas as pd\n",
    "import numpy as np\n",
    "import matplotlib.pyplot as plt\n",
    "df_1=pd.read_csv(\"D:\\Aashish Folder\\Docs\\Olympics.csv\")\n",
    "df_2=df_1.where(df_1['Gender']=='Women')\n",
    "df_2=df_2.dropna()\n",
    "df=df_2.where(df_2['Medal']=='Gold')\n",
    "df=df.dropna()\n",
    "data=[]\n",
    "count=0\n",
    "for x in df['Sport'].unique():\n",
    "    data.append([x , len(df[df['Sport']  ==x])])\n",
    "sorted(data, key = lambda x: x[1])\n",
    "data1=[]\n",
    "for i in range(5):\n",
    "    data1.append(data[i])\n",
    "for i in range(len(data1)):\n",
    "    if data1[i][1]>count:\n",
    "        count=data[i][1]\n",
    "        index=data[i][0]\n",
    "pd.DataFrame(data1,columns = ['Sport','freq']).sort_values(by='freq', ascending=False).plot(x = 'Sport', y = 'freq', kind = 'bar', figsize = (10,5))\n",
    "\n",
    "print(\"Sport having most female Gold Medalists:\",index,\"\\nNumber of players:\",count)\n"
   ]
  },
  {
   "cell_type": "code",
   "execution_count": null,
   "metadata": {},
   "outputs": [],
   "source": []
  }
 ],
 "metadata": {
  "kernelspec": {
   "display_name": "Python 3",
   "language": "python",
   "name": "python3"
  },
  "language_info": {
   "codemirror_mode": {
    "name": "ipython",
    "version": 3
   },
   "file_extension": ".py",
   "mimetype": "text/x-python",
   "name": "python",
   "nbconvert_exporter": "python",
   "pygments_lexer": "ipython3",
   "version": "3.8.5"
  }
 },
 "nbformat": 4,
 "nbformat_minor": 4
}
